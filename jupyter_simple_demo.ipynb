{
 "cells": [
  {
   "cell_type": "code",
   "execution_count": null,
   "id": "56081ab4-e135-4a0e-b57c-6b26b5ad69ab",
   "metadata": {
    "tags": []
   },
   "outputs": [],
   "source": [
    "# Install necessary libraries\n",
    "!pip install yfinance\n",
    "!pip install matplotlib"
   ]
  },
  {
   "cell_type": "code",
   "execution_count": null,
   "id": "f0ceb9e2-0a5f-4f1c-9f52-f8b6633da3a9",
   "metadata": {
    "tags": []
   },
   "outputs": [],
   "source": [
    "# Import libraries\n",
    "import yfinance as yf\n",
    "import matplotlib.pyplot as plt\n",
    "import pandas as pd"
   ]
  },
  {
   "cell_type": "code",
   "execution_count": null,
   "id": "d9f6f782-bb44-4bb5-a3c9-be0b9894a0b9",
   "metadata": {
    "tags": []
   },
   "outputs": [],
   "source": [
    "# Define the ticker symbol for the Dow Jones Industrial Average\n",
    "ticker_symbol = '^DJI'"
   ]
  },
  {
   "cell_type": "code",
   "execution_count": null,
   "id": "99117b60-e80e-490c-a8fc-65845073f35c",
   "metadata": {
    "tags": []
   },
   "outputs": [],
   "source": [
    "# Fetch the data for the last 5 years\n",
    "data = yf.download(ticker_symbol, period='5y')"
   ]
  },
  {
   "cell_type": "code",
   "execution_count": null,
   "id": "400b4740-a298-4fef-8b6b-d6ff74dd8b2c",
   "metadata": {
    "tags": []
   },
   "outputs": [],
   "source": [
    "# Print the fetched data\n",
    "print(data)"
   ]
  },
  {
   "cell_type": "code",
   "execution_count": null,
   "id": "75e5caff-f57c-44d5-a351-3d086bdfe018",
   "metadata": {
    "tags": []
   },
   "outputs": [],
   "source": [
    "# Plot the data\n",
    "plt.figure(figsize=(14, 7))\n",
    "plt.plot(data['Close'], label='Dow Jones Industrial Average')\n",
    "plt.title('Dow Jones Industrial Average (Last 5 Years)')\n",
    "plt.xlabel('Date')\n",
    "plt.ylabel('Close Price')\n",
    "plt.legend()\n",
    "plt.grid()\n",
    "plt.show()"
   ]
  },
  {
   "cell_type": "code",
   "execution_count": null,
   "id": "61485bbe-8b20-4082-9200-3430c96dfc9b",
   "metadata": {
    "tags": []
   },
   "outputs": [],
   "source": [
    "# Find all-time high and all-time low\n",
    "all_time_high = data['Close'].max()\n",
    "all_time_low = data['Close'].min()\n",
    "all_time_high_date = data['Close'].idxmax()\n",
    "all_time_low_date = data['Close'].idxmin()"
   ]
  },
  {
   "cell_type": "code",
   "execution_count": null,
   "id": "130c03a0-d4a3-4dad-96de-82ed26d75777",
   "metadata": {
    "tags": []
   },
   "outputs": [],
   "source": [
    "# Print all-time high and low with dates\n",
    "print(f\"All-Time High: {all_time_high:.2f} on {all_time_high_date.date()}\")\n",
    "print(f\"All-Time Low: {all_time_low:.2f} on {all_time_low_date.date()}\")"
   ]
  },
  {
   "cell_type": "code",
   "execution_count": null,
   "id": "2610f8f7-9571-4ddd-ac2c-8da1a1d04bd3",
   "metadata": {
    "tags": []
   },
   "outputs": [],
   "source": [
    "# Plot the data with all-time high and low\n",
    "plt.figure(figsize=(14, 7))\n",
    "plt.plot(data['Close'], label='Dow Jones Industrial Average')\n",
    "\n",
    "# Highlight the all-time high and low\n",
    "plt.scatter(all_time_high_date, all_time_high, color='green', label=f'All-Time High: {all_time_high:.2f} on {all_time_high_date.date()}')\n",
    "plt.scatter(all_time_low_date, all_time_low, color='red', label=f'All-Time Low: {all_time_low:.2f} on {all_time_low_date.date()}')\n",
    "\n",
    "# Highlight the area between all-time high and low\n",
    "highlight_period = data[(data.index >= all_time_low_date) & (data.index <= all_time_high_date)]\n",
    "plt.fill_between(highlight_period.index, all_time_low, all_time_high, color='grey', alpha=0.3)\n",
    "\n",
    "plt.title('Dow Jones Industrial Average (Last 5 Years)')\n",
    "plt.xlabel('Date')\n",
    "plt.ylabel('Close Price')\n",
    "plt.legend()\n",
    "plt.grid()\n",
    "plt.show()"
   ]
  }
 ],
 "metadata": {
  "kernelspec": {
   "display_name": "Python 3.9",
   "language": "python",
   "name": "python3"
  },
  "language_info": {
   "codemirror_mode": {
    "name": "ipython",
    "version": 3
   },
   "file_extension": ".py",
   "mimetype": "text/x-python",
   "name": "python",
   "nbconvert_exporter": "python",
   "pygments_lexer": "ipython3",
   "version": "3.9.18"
  }
 },
 "nbformat": 4,
 "nbformat_minor": 5
}
